{
 "cells": [
  {
   "cell_type": "markdown",
   "metadata": {},
   "source": [
    "有 n 个城市，其中一些彼此相连，另一些没有相连。如果城市 a 与城市 b 直接相连，且城市 b 与城市 c 直接相连，那么城市 a 与城市 c 间接相连。\n",
    "\n",
    "省份 是一组直接或间接相连的城市，组内不含其他没有相连的城市。\n",
    "\n",
    "给你一个 n x n 的矩阵 isConnected ，其中 isConnected[i][j] = 1 表示第 i 个城市和第 j 个城市直接相连，而 isConnected[i][j] = 0 表示二者不直接相连。\n",
    "\n",
    "返回矩阵中 省份 的数量。\n",
    "\n"
   ]
  },
  {
   "cell_type": "markdown",
   "metadata": {},
   "source": [
    "问题的本质就是求解图中连通分量的个数\n",
    "\n",
    "求解的方法有：深度遍历、广度遍历和并查集"
   ]
  },
  {
   "cell_type": "code",
   "execution_count": 10,
   "metadata": {},
   "outputs": [],
   "source": [
    "from typing import List\n",
    "class Solution:\n",
    "    def findCircleNum_dfs(self, isConnected: List[List[int]]) -> int:\n",
    "        def dfs(i:int):\n",
    "            for j in range(provinces):\n",
    "                if isConnected[i][j] == 1 and j not in visited:\n",
    "                    visited.add(j)\n",
    "                    dfs(j)\n",
    "        \n",
    "        provinces = len(isConnected)\n",
    "        visited = set()\n",
    "        c = 0\n",
    "\n",
    "        for i in range(provinces):\n",
    "            if i not in visited:\n",
    "                dfs(i)\n",
    "                c += 1\n",
    "        \n",
    "        return c\n",
    "    \n",
    "    def findCircleNum_bfs(self, isConnected: List[List[int]]) -> int:\n",
    "        #广度优先需要一个队列来记录当前结点的相邻结点\n",
    "        provinces = len(isConnected)\n",
    "        visited = set()\n",
    "        circles = 0\n",
    "        \n",
    "        for i in range(provinces):\n",
    "            if i not in visited:\n",
    "                Q = collections.deque([i])\n",
    "                while Q:\n",
    "                    j = Q.popleft()\n",
    "                    visited.add(j)\n",
    "                    for k in range(provinces):\n",
    "                        if isConnected[j][k] == 1 and k not in visited:\n",
    "                            Q.append(k)\n",
    "                circles += 1\n",
    "        return circles"
   ]
  },
  {
   "cell_type": "markdown",
   "metadata": {},
   "source": [
    "这里使用的collections.deque(\\[,,,\\]),是一个双端队列。解决了list()删除、插入效率低的问题（要线性依次遍历才能进行删除、插入操作）。\n",
    "collections.deque(\\[,,,\\])可以便利的用作队列和栈，有append，appendleft；pop，popleft\n"
   ]
  },
  {
   "cell_type": "code",
   "execution_count": null,
   "metadata": {},
   "outputs": [],
   "source": []
  }
 ],
 "metadata": {
  "kernelspec": {
   "display_name": "Python 3",
   "language": "python",
   "name": "python3"
  },
  "language_info": {
   "codemirror_mode": {
    "name": "ipython",
    "version": 3
   },
   "file_extension": ".py",
   "mimetype": "text/x-python",
   "name": "python",
   "nbconvert_exporter": "python",
   "pygments_lexer": "ipython3",
   "version": "3.7.4"
  }
 },
 "nbformat": 4,
 "nbformat_minor": 2
}
